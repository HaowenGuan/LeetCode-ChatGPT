{
  "cells": [
    {
      "cell_type": "code",
      "execution_count": 27,
      "metadata": {
        "id": "0cO8ZFYsvAW5"
      },
      "outputs": [],
      "source": [
        "import glob\n",
        "import json\n",
        "import pandas as pd"
      ]
    },
    {
      "cell_type": "code",
      "execution_count": 29,
      "metadata": {
        "id": "iYrckkjU_ufG"
      },
      "outputs": [],
      "source": [
        "def generate_result(result_dict, result_files):\n",
        "\n",
        "  for i in result_files:\n",
        "    with open(i, \"r\") as f:\n",
        "      data = json.load(f)\n",
        "      for key, value in data.items():\n",
        "        result_dict[str(key).zfill(4)]+=value[0]\n",
        "\n",
        "  # some result cases have more than one feedback\n",
        "  for key, value in result_dict.items():\n",
        "        if len(value) >3:\n",
        "          temp = value[:2]\n",
        "          temp.append(value[2:])\n",
        "          result_dict[key] = temp\n",
        "\n",
        "  df_result = pd.DataFrame.from_dict(result_dict, orient='index',columns=['difficulty', 'result', 'feedback'])\n",
        "  df_diff = df_result.groupby(['difficulty', 'result']).count()\n",
        "  df_diff['percent'] = df_diff.groupby('difficulty', group_keys=False)['feedback'].apply(lambda x: (round(x*100/x.sum(), 2)))\n",
        "  df_diff['percent'] = pd.Series([\"{0:.2f}%\".format(val)  for val in df_diff['percent']], index = df_diff.index)\n",
        "\n",
        "  df_all = df_result.groupby(['result']).agg({'feedback': 'count'})\n",
        "  df_all['percent'] = round(df_all['feedback']*100/df_all['feedback'].sum(), 2)\n",
        "  df_all['percent'] = pd.Series([\"{0:.2f}%\".format(val)  for val in df_all['percent']], index = df_all.index)\n",
        "\n",
        "  return df_diff, df_all"
      ]
    },
    {
      "cell_type": "code",
      "execution_count": 30,
      "metadata": {
        "id": "FDwNxfaNAI0U"
      },
      "outputs": [],
      "source": [
        "# Read difficulty json\n",
        "with open(\"json_files/difficulty.json\", \"r\") as f:\n",
        "  result_dict = json.load(f)\n",
        "\n",
        "# Get result path\n",
        "RESULT_PATH = 'json_files/original'\n",
        "result_files = glob.glob(RESULT_PATH+\"/*_results.json\")"
      ]
    },
    {
      "cell_type": "code",
      "execution_count": 31,
      "metadata": {
        "id": "f7NKIojVAD_O"
      },
      "outputs": [],
      "source": [
        "df_diff, df_all = generate_result(result_dict, result_files)"
      ]
    },
    {
      "cell_type": "code",
      "execution_count": 32,
      "metadata": {
        "colab": {
          "base_uri": "https://localhost:8080/",
          "height": 206
        },
        "id": "P92wUnYFAkYu",
        "outputId": "d0b6f051-0dde-4f8d-9d6b-5426d0a07f02"
      },
      "outputs": [
        {
          "data": {
            "text/html": [
              "<div>\n",
              "<style scoped>\n",
              "    .dataframe tbody tr th:only-of-type {\n",
              "        vertical-align: middle;\n",
              "    }\n",
              "\n",
              "    .dataframe tbody tr th {\n",
              "        vertical-align: top;\n",
              "    }\n",
              "\n",
              "    .dataframe thead th {\n",
              "        text-align: right;\n",
              "    }\n",
              "</style>\n",
              "<table border=\"1\" class=\"dataframe\">\n",
              "  <thead>\n",
              "    <tr style=\"text-align: right;\">\n",
              "      <th></th>\n",
              "      <th>feedback</th>\n",
              "      <th>percent</th>\n",
              "    </tr>\n",
              "    <tr>\n",
              "      <th>result</th>\n",
              "      <th></th>\n",
              "      <th></th>\n",
              "    </tr>\n",
              "  </thead>\n",
              "  <tbody>\n",
              "    <tr>\n",
              "      <th>-2</th>\n",
              "      <td>57</td>\n",
              "      <td>1.14%</td>\n",
              "    </tr>\n",
              "    <tr>\n",
              "      <th>-1</th>\n",
              "      <td>866</td>\n",
              "      <td>17.32%</td>\n",
              "    </tr>\n",
              "    <tr>\n",
              "      <th>False</th>\n",
              "      <td>2864</td>\n",
              "      <td>57.28%</td>\n",
              "    </tr>\n",
              "    <tr>\n",
              "      <th>True</th>\n",
              "      <td>1213</td>\n",
              "      <td>24.26%</td>\n",
              "    </tr>\n",
              "  </tbody>\n",
              "</table>\n",
              "</div>"
            ],
            "text/plain": [
              "        feedback percent\n",
              "result                  \n",
              "-2            57   1.14%\n",
              "-1           866  17.32%\n",
              "False       2864  57.28%\n",
              "True        1213  24.26%"
            ]
          },
          "execution_count": 32,
          "metadata": {},
          "output_type": "execute_result"
        }
      ],
      "source": [
        "df_all"
      ]
    },
    {
      "cell_type": "code",
      "execution_count": 33,
      "metadata": {},
      "outputs": [
        {
          "data": {
            "text/html": [
              "<div>\n",
              "<style scoped>\n",
              "    .dataframe tbody tr th:only-of-type {\n",
              "        vertical-align: middle;\n",
              "    }\n",
              "\n",
              "    .dataframe tbody tr th {\n",
              "        vertical-align: top;\n",
              "    }\n",
              "\n",
              "    .dataframe thead th {\n",
              "        text-align: right;\n",
              "    }\n",
              "</style>\n",
              "<table border=\"1\" class=\"dataframe\">\n",
              "  <thead>\n",
              "    <tr style=\"text-align: right;\">\n",
              "      <th></th>\n",
              "      <th></th>\n",
              "      <th>feedback</th>\n",
              "      <th>percent</th>\n",
              "    </tr>\n",
              "    <tr>\n",
              "      <th>difficulty</th>\n",
              "      <th>result</th>\n",
              "      <th></th>\n",
              "      <th></th>\n",
              "    </tr>\n",
              "  </thead>\n",
              "  <tbody>\n",
              "    <tr>\n",
              "      <th rowspan=\"4\" valign=\"top\">competition</th>\n",
              "      <th>-2</th>\n",
              "      <td>19</td>\n",
              "      <td>1.90%</td>\n",
              "    </tr>\n",
              "    <tr>\n",
              "      <th>-1</th>\n",
              "      <td>267</td>\n",
              "      <td>26.70%</td>\n",
              "    </tr>\n",
              "    <tr>\n",
              "      <th>False</th>\n",
              "      <td>651</td>\n",
              "      <td>65.10%</td>\n",
              "    </tr>\n",
              "    <tr>\n",
              "      <th>True</th>\n",
              "      <td>63</td>\n",
              "      <td>6.30%</td>\n",
              "    </tr>\n",
              "    <tr>\n",
              "      <th rowspan=\"4\" valign=\"top\">interview</th>\n",
              "      <th>-2</th>\n",
              "      <td>27</td>\n",
              "      <td>0.90%</td>\n",
              "    </tr>\n",
              "    <tr>\n",
              "      <th>-1</th>\n",
              "      <td>495</td>\n",
              "      <td>16.50%</td>\n",
              "    </tr>\n",
              "    <tr>\n",
              "      <th>False</th>\n",
              "      <td>1838</td>\n",
              "      <td>61.27%</td>\n",
              "    </tr>\n",
              "    <tr>\n",
              "      <th>True</th>\n",
              "      <td>640</td>\n",
              "      <td>21.33%</td>\n",
              "    </tr>\n",
              "    <tr>\n",
              "      <th rowspan=\"4\" valign=\"top\">introductory</th>\n",
              "      <th>-2</th>\n",
              "      <td>11</td>\n",
              "      <td>1.10%</td>\n",
              "    </tr>\n",
              "    <tr>\n",
              "      <th>-1</th>\n",
              "      <td>104</td>\n",
              "      <td>10.40%</td>\n",
              "    </tr>\n",
              "    <tr>\n",
              "      <th>False</th>\n",
              "      <td>375</td>\n",
              "      <td>37.50%</td>\n",
              "    </tr>\n",
              "    <tr>\n",
              "      <th>True</th>\n",
              "      <td>510</td>\n",
              "      <td>51.00%</td>\n",
              "    </tr>\n",
              "  </tbody>\n",
              "</table>\n",
              "</div>"
            ],
            "text/plain": [
              "                     feedback percent\n",
              "difficulty   result                  \n",
              "competition  -2            19   1.90%\n",
              "             -1           267  26.70%\n",
              "             False        651  65.10%\n",
              "             True          63   6.30%\n",
              "interview    -2            27   0.90%\n",
              "             -1           495  16.50%\n",
              "             False       1838  61.27%\n",
              "             True         640  21.33%\n",
              "introductory -2            11   1.10%\n",
              "             -1           104  10.40%\n",
              "             False        375  37.50%\n",
              "             True         510  51.00%"
            ]
          },
          "execution_count": 33,
          "metadata": {},
          "output_type": "execute_result"
        }
      ],
      "source": [
        "df_diff"
      ]
    },
    {
      "cell_type": "code",
      "execution_count": null,
      "metadata": {},
      "outputs": [],
      "source": []
    }
  ],
  "metadata": {
    "colab": {
      "provenance": []
    },
    "kernelspec": {
      "display_name": "Python 3",
      "name": "python3"
    },
    "language_info": {
      "codemirror_mode": {
        "name": "ipython",
        "version": 3
      },
      "file_extension": ".py",
      "mimetype": "text/x-python",
      "name": "python",
      "nbconvert_exporter": "python",
      "pygments_lexer": "ipython3",
      "version": "3.8.8"
    }
  },
  "nbformat": 4,
  "nbformat_minor": 0
}
